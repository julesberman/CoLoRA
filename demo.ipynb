{
 "cells": [
  {
   "cell_type": "code",
   "execution_count": null,
   "metadata": {},
   "outputs": [],
   "source": [
    "%load_ext autoreload\n",
    "%autoreload 2"
   ]
  },
  {
   "cell_type": "code",
   "execution_count": null,
   "metadata": {},
   "outputs": [],
   "source": [
    "from colora.networks import DNN\n",
    "from colora.utils import init_net, split, merge\n",
    "from jax.flatten_util import ravel_pytree\n",
    "import jax\n",
    "\n",
    "import flax.linen as nn\n",
    "\n",
    "# define the structure of u_hat\n",
    "layers = ['C', 'C', 'C']\n",
    "output_field_dim = 2\n",
    "x_dim = 1\n",
    "width = 4\n",
    "\n",
    "activations = [nn.selu, nn.sigmoid,  nn.sigmoid]\n",
    "net = DNN(width=width, layers=layers, out_dim=output_field_dim, activation=activations)\n",
    "params_init, u_apply = init_net(net, x_dim)\n",
    "\n",
    "# split up the params of u into the offline params (theta) and the online params (phi)\n",
    "lora_filter = 'alpha'\n",
    "phi, theta = split(params_init,lora_filter)\n",
    "flat_phi, phi_unravel = ravel_pytree(phi)\n",
    "n_phi = len(flat_phi)\n",
    "\n",
    "# define the structure of h, our hyper network\n",
    "layers = ['D', 'D', 'D']\n",
    "out_dim = n_phi # must output to the size of phi\n",
    "mu_t_dim = 2 # for time and mu\n",
    "width = 4\n",
    "net = DNN(width=width, layers=layers, out_dim=out_dim)\n",
    "psi_init, h_net = init_net(net, mu_t_dim)\n"
   ]
  },
  {
   "cell_type": "code",
   "execution_count": null,
   "metadata": {},
   "outputs": [],
   "source": [
    "# now we define a wrapper over the u neural network\n",
    "# this will allow us to take theta and phi sepearatly\n",
    "# and then it will automatically merge them and pass the resulting\n",
    "# combined paramters to u_apply\n",
    "# it also unravels phi so that we can pass in phi as a vector that is output from h\n",
    "def build_u_hat(u_apply, phi_unravel):\n",
    "    def u_hat(theta, phi, *args):\n",
    "        phi = phi_unravel(phi)\n",
    "        theta_phi = merge(theta, phi)\n",
    "        return u_apply(theta_phi, *args)\n",
    "    return u_hat\n",
    "\n",
    "u_hat = build_u_hat(u_apply, phi_unravel)"
   ]
  },
  {
   "cell_type": "code",
   "execution_count": null,
   "metadata": {},
   "outputs": [],
   "source": [
    "import jax.numpy as jnp\n",
    "mu_t = jnp.ones(mu_t_dim)\n",
    "phi = h_net(psi_init, mu_t)"
   ]
  },
  {
   "cell_type": "code",
   "execution_count": null,
   "metadata": {},
   "outputs": [],
   "source": [
    "x = jnp.ones(x_dim)\n",
    "u_hat(theta, phi, x)"
   ]
  },
  {
   "cell_type": "code",
   "execution_count": null,
   "metadata": {},
   "outputs": [],
   "source": []
  },
  {
   "cell_type": "code",
   "execution_count": null,
   "metadata": {},
   "outputs": [],
   "source": []
  },
  {
   "cell_type": "code",
   "execution_count": null,
   "metadata": {},
   "outputs": [],
   "source": []
  }
 ],
 "metadata": {
  "kernelspec": {
   "display_name": "Python 3",
   "language": "python",
   "name": "python3"
  },
  "language_info": {
   "codemirror_mode": {
    "name": "ipython",
    "version": 3
   },
   "file_extension": ".py",
   "mimetype": "text/x-python",
   "name": "python",
   "nbconvert_exporter": "python",
   "pygments_lexer": "ipython3",
   "version": "3.10.13"
  }
 },
 "nbformat": 4,
 "nbformat_minor": 2
}
